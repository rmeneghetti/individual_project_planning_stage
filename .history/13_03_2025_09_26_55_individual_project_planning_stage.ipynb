{
 "cells": [
  {
   "cell_type": "markdown",
   "id": "013d1382-9cee-4d41-9d1d-e594eb31345b",
   "metadata": {},
   "source": [
    "(1) Data Description:\n",
    "Provide a full descriptive summary of the dataset, including information such as the number of observations, summary statistics, number of variables, name and type of variables, what the variables mean, any issues you see in the data, any other potential issues related to things you cannot directly see, how the data were collected, etc. Make sure to use bullet point lists or tables to summarize the variables in an easy-to-understand format.\n",
    "\n",
    "Note that the selected dataset(s) will probably contain more variables than you need. In fact, exploring how the different variables in the dataset affect your model may be a crucial part of the project. You need to summarize the full data regardless of which variables you may choose to use later on."
   ]
  },
  {
   "cell_type": "markdown",
   "id": "aca72b09-0d24-4b99-b749-1cd2a6b4ea54",
   "metadata": {},
   "source": [
    "There are two datasets available, players and sessions. In the players dataset, "
   ]
  },
  {
   "cell_type": "markdown",
   "id": "cc5fd4af-40d9-457e-800a-789dfb18cea4",
   "metadata": {},
   "source": [
    "(2) Questions:\n",
    "Clearly state one broad question that you will address, and the specific question that you have formulated. Your question should involve one response variable of interest and one or more explanatory variables, and should be stated as a question. One common question format is: “Can [explanatory variable(s)] predict [response variable] in [dataset]?”, but you are free to format your question as you choose so long as it is clear. Describe clearly how the data will help you address the question of interest. You may need to describe how you plan to wrangle your data to get it into a form where you can apply one of the predictive methods from this class.\n"
   ]
  },
  {
   "cell_type": "markdown",
   "id": "cc197f63-eba7-4246-b428-ebf27180bba6",
   "metadata": {},
   "source": []
  },
  {
   "cell_type": "markdown",
   "id": "2cf000dc-9b3d-4fb7-a877-7f78f2d384fb",
   "metadata": {},
   "source": [
    "(3) Exploratory Data Analysis and Visualization\n",
    "In this assignment, you will:\n",
    "\n",
    "Demonstrate that the dataset can be loaded into R.\n",
    "Do the minimum necessary wrangling to turn your data into a tidy format. Do not do any additional wrangling here; that will happen later during the group project phase.\n",
    "Compute the mean value for each quantitative variable in the players.csv data set. Report the mean values in a table format.\n",
    "Make a few exploratory visualizations of the data to help you understand it.\n",
    "Use our visualization best practices to make high-quality plots (make sure to include labels, titles, units of measurement, etc)\n",
    "Explain any insights you gain from these plots that are relevant to address your question\n",
    "Note: do not perform any predictive analysis here. We are asking for an exploration of the relevant variables to demonstrate that you understand them well before performing any additional modelling, and to identify potential problems you anticipate encountering."
   ]
  },
  {
   "cell_type": "markdown",
   "id": "095fe512-53f4-4beb-91b0-d4a45a683407",
   "metadata": {},
   "source": []
  },
  {
   "cell_type": "markdown",
   "id": "2d57e8dd-5519-46d2-bf19-0a58b67f1668",
   "metadata": {},
   "source": [
    "(4) Methods and Plan\n",
    "Propose one method to address your question of interest using the selected dataset and explain why it was chosen. Do not perform any modelling or present results at this stage. We are looking for high-level planning regarding model choice and justifying that choice.\n",
    "\n",
    "In your explanation, respond to the following questions:\n",
    "\n",
    "Why is this method appropriate?\n",
    "Which assumptions are required, if any, to apply the method selected?\n",
    "What are the potential limitations or weaknesses of the method selected?\n",
    "How are you going to compare and select the model?\n",
    "How are you going to process the data to apply the model? For example: Are you splitting the data? How? How many splits? What proportions will you use for the splits? At what stage will you split? Will there be a validation set? Will you use cross validation?\n",
    " "
   ]
  },
  {
   "cell_type": "markdown",
   "id": "1a8984e7-949c-47d9-ac85-37847e207b8f",
   "metadata": {},
   "source": []
  }
 ],
 "metadata": {
  "kernelspec": {
   "display_name": "R",
   "language": "R",
   "name": "ir"
  },
  "language_info": {
   "codemirror_mode": "r",
   "file_extension": ".r",
   "mimetype": "text/x-r-source",
   "name": "R",
   "pygments_lexer": "r",
   "version": "4.3.3"
  }
 },
 "nbformat": 4,
 "nbformat_minor": 5
}
