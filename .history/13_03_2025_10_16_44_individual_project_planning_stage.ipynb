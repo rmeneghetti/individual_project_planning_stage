{
 "cells": [
  {
   "cell_type": "markdown",
   "id": "013d1382-9cee-4d41-9d1d-e594eb31345b",
   "metadata": {},
   "source": [
    "(1) Data Description:\n",
    "Provide a full descriptive summary of the dataset, including information such as the number of observations, summary statistics, number of variables, name and type of variables, what the variables mean, any issues you see in the data, any other potential issues related to things you cannot directly see, how the data were collected, etc. Make sure to use bullet point lists or tables to summarize the variables in an easy-to-understand format.\n",
    "\n",
    "Note that the selected dataset(s) will probably contain more variables than you need. In fact, exploring how the different variables in the dataset affect your model may be a crucial part of the project. You need to summarize the full data regardless of which variables you may choose to use later on."
   ]
  },
  {
   "cell_type": "markdown",
   "id": "aca72b09-0d24-4b99-b749-1cd2a6b4ea54",
   "metadata": {},
   "source": [
    "There are two datasets available, players and sessions. In the players dataset, there are 7 columns - experience, subscribe, hashedEmail, played_hours, name, age, and gender. The sessions dataset includes 5 columns - hashedEmail, start_time, end_time, original_start_time, and original_end_time. \n",
    "Players dataset:\n",
    "Experience: The experience column describes the experience level of the player. There are 5 different experience levels including beginner, amateur, regular, pro, and veteran. \n",
    "Subscribe: The subscribe column has two options including TRUE and FALSE. This column indicates whether the player has subscribed to a game relate newsletter or not. If they have subscribed to the newsletter, their row will say TRUE.\n",
    "Hashed Email: This column contains a series of numbers, or an encryption, that allows you to identify the players.\n",
    "Played Hours: This column contains the number of hours each player has played the game. \n",
    "Name: The column contains the name of each player so that you can identify who is playing the game. \n",
    "Gender: This column contains the gender of each person playing the game.\n",
    "Age: This column indicates the age of each player playing the game.\n",
    "\n",
    "Sessions dataset:\n",
    "Hashed Email: This colum contains the same thing as in the players dataset: an encryption that allows you to identify the players.\n",
    "Start Time: This column indicates what time each player started playing the game as well as the date they played it.\n",
    "End Time: This column indicates the time each player stopped playing the game as well as the date they stopped playing.\n",
    "Original Start Time: This column indicates the orginal start time of playing the game for each player. The 1st quartile for this column is 1.71624e+12, the min is 1.7124e+12, the median is 1.7192e+12, the mean is 1.719201e+12, the 3rd quartile is 1.72189e+12, and the max is 1.72733e+12. \n",
    "Original End Time: This column indicates the original end time of playing the game for each player. The 1st quartile for this column is \n",
    "\n",
    "If this data is based on what the players choose to share (like age, gender, name), the data might not be correct. Some players might lie about their age or gender to avoid being "
   ]
  },
  {
   "cell_type": "code",
   "execution_count": null,
   "id": "6d2ac8f6-5479-4fdd-bb02-5de4be793d32",
   "metadata": {},
   "outputs": [],
   "source": [
    "library(dplyr)\n",
    "\n",
    "data = read_csv(\"data/sessions.csv\")\n",
    "\n",
    "summarized_data<- data|>\n",
    "   group_by()|>\n",
    "   summarize(min = min(original_end_time),\n",
    "   q1 = quantile(original_end_time, 0.25),\n",
    "   median = median(original_end_time),\n",
    "   mean = mean(original_end_time),\n",
    "   q3 = quantile(original_end_time, 0.75),\n",
    "   max = max(original_end_time))\n",
    "summarized_data"
   ]
  },
  {
   "cell_type": "markdown",
   "id": "cc5fd4af-40d9-457e-800a-789dfb18cea4",
   "metadata": {},
   "source": [
    "(2) Questions:\n",
    "Clearly state one broad question that you will address, and the specific question that you have formulated. Your question should involve one response variable of interest and one or more explanatory variables, and should be stated as a question. One common question format is: “Can [explanatory variable(s)] predict [response variable] in [dataset]?”, but you are free to format your question as you choose so long as it is clear. Describe clearly how the data will help you address the question of interest. You may need to describe how you plan to wrangle your data to get it into a form where you can apply one of the predictive methods from this class.\n"
   ]
  },
  {
   "cell_type": "markdown",
   "id": "cc197f63-eba7-4246-b428-ebf27180bba6",
   "metadata": {},
   "source": []
  },
  {
   "cell_type": "markdown",
   "id": "2cf000dc-9b3d-4fb7-a877-7f78f2d384fb",
   "metadata": {},
   "source": [
    "(3) Exploratory Data Analysis and Visualization\n",
    "In this assignment, you will:\n",
    "\n",
    "Demonstrate that the dataset can be loaded into R.\n",
    "Do the minimum necessary wrangling to turn your data into a tidy format. Do not do any additional wrangling here; that will happen later during the group project phase.\n",
    "Compute the mean value for each quantitative variable in the players.csv data set. Report the mean values in a table format.\n",
    "Make a few exploratory visualizations of the data to help you understand it.\n",
    "Use our visualization best practices to make high-quality plots (make sure to include labels, titles, units of measurement, etc)\n",
    "Explain any insights you gain from these plots that are relevant to address your question\n",
    "Note: do not perform any predictive analysis here. We are asking for an exploration of the relevant variables to demonstrate that you understand them well before performing any additional modelling, and to identify potential problems you anticipate encountering."
   ]
  },
  {
   "cell_type": "markdown",
   "id": "095fe512-53f4-4beb-91b0-d4a45a683407",
   "metadata": {},
   "source": []
  },
  {
   "cell_type": "markdown",
   "id": "2d57e8dd-5519-46d2-bf19-0a58b67f1668",
   "metadata": {},
   "source": [
    "(4) Methods and Plan\n",
    "Propose one method to address your question of interest using the selected dataset and explain why it was chosen. Do not perform any modelling or present results at this stage. We are looking for high-level planning regarding model choice and justifying that choice.\n",
    "\n",
    "In your explanation, respond to the following questions:\n",
    "\n",
    "Why is this method appropriate?\n",
    "Which assumptions are required, if any, to apply the method selected?\n",
    "What are the potential limitations or weaknesses of the method selected?\n",
    "How are you going to compare and select the model?\n",
    "How are you going to process the data to apply the model? For example: Are you splitting the data? How? How many splits? What proportions will you use for the splits? At what stage will you split? Will there be a validation set? Will you use cross validation?\n",
    " "
   ]
  },
  {
   "cell_type": "markdown",
   "id": "1a8984e7-949c-47d9-ac85-37847e207b8f",
   "metadata": {},
   "source": []
  }
 ],
 "metadata": {
  "kernelspec": {
   "display_name": "R",
   "language": "R",
   "name": "ir"
  },
  "language_info": {
   "codemirror_mode": "r",
   "file_extension": ".r",
   "mimetype": "text/x-r-source",
   "name": "R",
   "pygments_lexer": "r",
   "version": "4.3.3"
  }
 },
 "nbformat": 4,
 "nbformat_minor": 5
}
