{
 "cells": [
  {
   "cell_type": "markdown",
   "id": "013d1382-9cee-4d41-9d1d-e594eb31345b",
   "metadata": {},
   "source": [
    "(1) Data Description:\n",
    "Provide a full descriptive summary of the dataset, including information such as the number of observations, summary statistics, number of variables, name and type of variables, what the variables mean, any issues you see in the data, any other potential issues related to things you cannot directly see, how the data were collected, etc. Make sure to use bullet point lists or tables to summarize the variables in an easy-to-understand format.\n",
    "\n",
    "Note that the selected dataset(s) will probably contain more variables than you need. In fact, exploring how the different variables in the dataset affect your model may be a crucial part of the project. You need to summarize the full data regardless of which variables you may choose to use later on."
   ]
  },
  {
   "cell_type": "markdown",
   "id": "aca72b09-0d24-4b99-b749-1cd2a6b4ea54",
   "metadata": {},
   "source": [
    "Players dataset (196 rows):\n",
    "Experience: Describes the experience level of the player including beginner, amateur, regular, pro, and veteran. \n",
    "Subscribe: Indicates whether the player has subscribed to a game related newsletter or not.\n",
    "Hashed Email: Contains a series of numbers, or an encryption, that allows you to identify the players.\n",
    "Played Hours: Contains the number of hours each player has played. \n",
    "Name: Contains the name of each player so that you can identify who is playing. \n",
    "Gender: Contains the gender of each person playing.\n",
    "Age: Indicates the age of each player playing.\n",
    "\n",
    "Sessions dataset (1535 rows):\n",
    "Hashed Email: Contains the same thing as in the players dataset: an encryption.\n",
    "Start Time: Indicates what time each player started playing the game and the date they played it.\n",
    "End Time: Indicates the time each player stopped playing the game and the date they stopped playing.\n",
    "Original Start Time: Indicates the original start time of playing the game for each player. The 1st quartile is 1.716e+12, min is 1.712e+12, median is 1.719e+12, mean is 1.719e+12, 3rd quartile is 1.722e+12, and max is 1.727e+12. \n",
    "Original End Time: Indicates the original end time of playing the game for each player. The 1st quartile is 1.716e+12, min is 1.712e+12, median is 1.719e+12, mean is 1.719e+12, 3rd quartile is 1.722e+12, and max is 1.727e+12.\n",
    "\n",
    "If this data is based on what the players choose to share (like age, gender, name), the data might not be correct. Some players might lie about their age or gender when self-reporting. People may leave the game open and come back to it (could cause issues when looking at played hours)."
   ]
  },
  {
   "cell_type": "code",
   "execution_count": 1,
   "id": "6d2ac8f6-5479-4fdd-bb02-5de4be793d32",
   "metadata": {},
   "outputs": [],
   "source": [
    "# library(dplyr)\n",
    "\n",
    "# data = read_csv(\"data/sessions.csv\")\n",
    "\n",
    "# # summary(data)"
   ]
  },
  {
   "cell_type": "markdown",
   "id": "cc5fd4af-40d9-457e-800a-789dfb18cea4",
   "metadata": {},
   "source": [
    "(2) Questions:\n",
    "Clearly state one broad question that you will address, and the specific question that you have formulated. Your question should involve one response variable of interest and one or more explanatory variables, and should be stated as a question. One common question format is: “Can [explanatory variable(s)] predict [response variable] in [dataset]?”, but you are free to format your question as you choose so long as it is clear. Describe clearly how the data will help you address the question of interest. You may need to describe how you plan to wrangle your data to get it into a form where you can apply one of the predictive methods from this class.\n"
   ]
  },
  {
   "cell_type": "markdown",
   "id": "cc197f63-eba7-4246-b428-ebf27180bba6",
   "metadata": {},
   "source": [
    "Question 2 \n",
    "\n",
    "What age group of players is most likely to contribute to playing time (in hours)? Age and hours played are variables given in the players dataset. I can use the group_by and summarize functions to find the time spent playing the game for each age."
   ]
  },
  {
   "cell_type": "markdown",
   "id": "2cf000dc-9b3d-4fb7-a877-7f78f2d384fb",
   "metadata": {},
   "source": [
    "(3) Exploratory Data Analysis and Visualization\n",
    "In this assignment, you will:\n",
    "\n",
    "Demonstrate that the dataset can be loaded into R.\n",
    "Do the minimum necessary wrangling to turn your data into a tidy format. Do not do any additional wrangling here; that will happen later during the group project phase.\n",
    "Compute the mean value for each quantitative variable in the players.csv data set. Report the mean values in a table format.\n",
    "Make a few exploratory visualizations of the data to help you understand it.\n",
    "Use our visualization best practices to make high-quality plots (make sure to include labels, titles, units of measurement, etc)\n",
    "Explain any insights you gain from these plots that are relevant to address your question\n",
    "Note: do not perform any predictive analysis here. We are asking for an exploration of the relevant variables to demonstrate that you understand them well before performing any additional modelling, and to identify potential problems you anticipate encountering."
   ]
  },
  {
   "cell_type": "code",
   "execution_count": null,
   "id": "b47aa50c-e6ca-4bf3-9f69-9c63503bf7fa",
   "metadata": {},
   "outputs": [],
   "source": [
    "library(tidyverse) \n",
    "players<- read_csv(\"data/players.csv\")\n",
    "\n",
    "players_wrangled <- players |>\n",
    "                      select(Age, gender, played_hours)\n",
    "\n",
    "\n",
    "mean_values <- players_wrangled |>\n",
    "                 summarize(mean_age = mean(Age, na.rm = TRUE), \n",
    "                           mean_played_hours = mean(played_hours, na.rm = TRUE))\n",
    "mean_values\n",
    "\n",
    "\n",
    "scatter_plot<-ggplot(players_wrangled, aes(x = Age, y = played_hours))+\n",
    "        geom_point(aes(colour = gender), alpha = 0.4)+\n",
    "        labs(x = \"Age of players\",\n",
    "             y = \"Hours Played\",\n",
    "             title = \"Age of Players vs. Hours Played\")+\n",
    "        scale_fill_brewer(palette = \"Pastel1\") +\n",
    "        theme(text = element_text(size = 12))\n",
    "scatter_plot\n",
    "\n",
    "\n",
    "\n",
    "bar_plot <- players_wrangled |>\n",
    "   ggplot(aes(x = Age, fill = gender)) + \n",
    "   geom_bar(position = 'fill') + \n",
    "   xlab(\"Age\") +\n",
    "   ylab(\"Hours Played\") +\n",
    "   labs(fill = \"Gender\") +\n",
    "   ggtitle(\"Predicting Gender by Age and Hours Played\")+\n",
    "   #scale_fill_brewer(palette = \"Pastel1\") +\n",
    "   theme(text = element_text(size = 12))\n",
    "bar_plot"
   ]
  },
  {
   "cell_type": "markdown",
   "id": "4ae1b899-5e27-482b-8e20-6604469c5e7f",
   "metadata": {},
   "source": [
    "The scatterplot is hard to read since there are outliers. Removing outliers would change the scale and be easier to read. The bar plot is hard to read because of the colours and the number of genders (not the best choice)."
   ]
  },
  {
   "cell_type": "markdown",
   "id": "2d57e8dd-5519-46d2-bf19-0a58b67f1668",
   "metadata": {},
   "source": [
    "(4) Methods and Plan\n",
    "Propose one method to address your question of interest using the selected dataset and explain why it was chosen. Do not perform any modelling or present results at this stage. We are looking for high-level planning regarding model choice and justifying that choice.\n",
    "\n",
    "In your explanation, respond to the following questions:\n",
    "\n",
    "Why is this method appropriate?\n",
    "Which assumptions are required, if any, to apply the method selected?\n",
    "What are the potential limitations or weaknesses of the method selected?\n",
    "How are you going to compare and select the model?\n",
    "How are you going to process the data to apply the model? For example: Are you splitting the data? How? How many splits? What proportions will you use for the splits? At what stage will you split? Will there be a validation set? Will you use cross validation?\n",
    " "
   ]
  },
  {
   "cell_type": "markdown",
   "id": "1a8984e7-949c-47d9-ac85-37847e207b8f",
   "metadata": {},
   "source": [
    "This method is appropriate because it helps to visualize the data and understand how different variables correlate to each other. The assumption that these variables are correlated needs to be made so that the variables chosen for the visualizations allows for a graph that is useful and easy to read. The model I will choose will be one that shows the correlation between the variables the best and is the easiest to read/make sense of the data. I will split the data into training and testing (about 70% training, 30% testing) and this is the first step done when dealing with the data. Cross validation will also be useful as it will help to reduce the standard error."
   ]
  },
  {
   "cell_type": "code",
   "execution_count": null,
   "id": "75091e5a-c453-4823-ac7b-89035e95b3cd",
   "metadata": {},
   "outputs": [],
   "source": []
  }
 ],
 "metadata": {
  "kernelspec": {
   "display_name": "R",
   "language": "R",
   "name": "ir"
  },
  "language_info": {
   "codemirror_mode": "r",
   "file_extension": ".r",
   "mimetype": "text/x-r-source",
   "name": "R",
   "pygments_lexer": "r",
   "version": "4.3.3"
  }
 },
 "nbformat": 4,
 "nbformat_minor": 5
}
