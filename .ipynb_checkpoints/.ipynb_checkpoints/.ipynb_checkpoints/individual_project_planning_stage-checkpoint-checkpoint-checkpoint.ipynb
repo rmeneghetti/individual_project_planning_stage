{
 "cells": [
  {
   "cell_type": "markdown",
   "id": "013d1382-9cee-4d41-9d1d-e594eb31345b",
   "metadata": {},
   "source": [
    "(1) Data Description:\n",
    "Provide a full descriptive summary of the dataset, including information such as the number of observations, summary statistics, number of variables, name and type of variables, what the variables mean, any issues you see in the data, any other potential issues related to things you cannot directly see, how the data were collected, etc. Make sure to use bullet point lists or tables to summarize the variables in an easy-to-understand format.\n",
    "\n",
    "Note that the selected dataset(s) will probably contain more variables than you need. In fact, exploring how the different variables in the dataset affect your model may be a crucial part of the project. You need to summarize the full data regardless of which variables you may choose to use later on."
   ]
  },
  {
   "cell_type": "markdown",
   "id": "aca72b09-0d24-4b99-b749-1cd2a6b4ea54",
   "metadata": {},
   "source": [
    "There are two datasets available, players and sessions. In the players dataset (containing 196 rows), there are 7 columns - experience, subscribe, hashedEmail, played_hours, name, age, and gender. The sessions dataset(containing 1535 rows) includes 5 columns - hashedEmail, start_time, end_time, original_start_time, and original_end_time. \n",
    "Players dataset:\n",
    "Experience: Describes the experience level of the player including beginner, amateur, regular, pro, and veteran. \n",
    "Subscribe: Has two options including TRUE and FALSE. It indicates whether the player has subscribed to a game related newsletter or not.\n",
    "Hashed Email: Contains a series of numbers, or an encryption, that allows you to identify the players.\n",
    "Played Hours: Contains the number of hours each player has played. \n",
    "Name: Contains the name of each player so that you can identify who is playing. \n",
    "Gender: Contains the gender of each person playing.\n",
    "Age: Indicates the age of each player playing.\n",
    "\n",
    "Sessions dataset:\n",
    "Hashed Email: Contains the same thing as in the players dataset: an encryption.\n",
    "Start Time: Indicates what time each player started playing the game and the date they played it.\n",
    "End Time: Indicates the time each player stopped playing the game and the date they stopped playing.\n",
    "Original Start Time: Indicates the original start time of playing the game for each player. The 1st quartile is 1.716e+12, min is 1.712e+12, median is 1.719e+12, mean is 1.719e+12, 3rd quartile is 1.722e+12, and max is 1.727e+12. \n",
    "Original End Time: Indicates the original end time of playing the game for each player. The 1st quartile is 1.716e+12, min is 1.712e+12, median is 1.719e+12, mean is 1.719e+12, 3rd quartile is 1.722e+12, and max is 1.727e+12.\n",
    "\n",
    "If this data is based on what the players choose to share (like age, gender, name), the data might not be correct. Some players might lie about their age or gender when self-reporting. In addition, some people may leave the game open and come back to it so this could cause issues when looking at the data for played hours."
   ]
  },
  {
   "cell_type": "code",
   "execution_count": null,
   "id": "6d2ac8f6-5479-4fdd-bb02-5de4be793d32",
   "metadata": {},
   "outputs": [],
   "source": [
    "# library(dplyr)\n",
    "\n",
    "# data = read_csv(\"data/sessions.csv\")\n",
    "\n",
    "# # summary(data)"
   ]
  },
  {
   "cell_type": "markdown",
   "id": "cc5fd4af-40d9-457e-800a-789dfb18cea4",
   "metadata": {},
   "source": [
    "(2) Questions:\n",
    "Clearly state one broad question that you will address, and the specific question that you have formulated. Your question should involve one response variable of interest and one or more explanatory variables, and should be stated as a question. One common question format is: “Can [explanatory variable(s)] predict [response variable] in [dataset]?”, but you are free to format your question as you choose so long as it is clear. Describe clearly how the data will help you address the question of interest. You may need to describe how you plan to wrangle your data to get it into a form where you can apply one of the predictive methods from this class.\n"
   ]
  },
  {
   "cell_type": "markdown",
   "id": "cc197f63-eba7-4246-b428-ebf27180bba6",
   "metadata": {},
   "source": [
    "Broad question: We would like to know which \"kinds\" of players are most likely to contribute a large amount of data so that we can target those players in our recruiting efforts. Specific question: What age group of players is most likley to contribute to playing time (in hours)? The data will help me to address this question as age and hours played are both variables given in the players dataset. Using this data, I can group the ages together and see the average playing time (in hours) of each age group. I can use the group_by and summarize functions to find the time spent playing the game for each age."
   ]
  },
  {
   "cell_type": "markdown",
   "id": "2cf000dc-9b3d-4fb7-a877-7f78f2d384fb",
   "metadata": {},
   "source": [
    "(3) Exploratory Data Analysis and Visualization\n",
    "In this assignment, you will:\n",
    "\n",
    "Demonstrate that the dataset can be loaded into R.\n",
    "Do the minimum necessary wrangling to turn your data into a tidy format. Do not do any additional wrangling here; that will happen later during the group project phase.\n",
    "Compute the mean value for each quantitative variable in the players.csv data set. Report the mean values in a table format.\n",
    "Make a few exploratory visualizations of the data to help you understand it.\n",
    "Use our visualization best practices to make high-quality plots (make sure to include labels, titles, units of measurement, etc)\n",
    "Explain any insights you gain from these plots that are relevant to address your question\n",
    "Note: do not perform any predictive analysis here. We are asking for an exploration of the relevant variables to demonstrate that you understand them well before performing any additional modelling, and to identify potential problems you anticipate encountering."
   ]
  },
  {
   "cell_type": "code",
   "execution_count": 3,
   "id": "13ba0715-a7e3-401c-a1df-d3476bc4e945",
   "metadata": {},
   "outputs": [
    {
     "ename": "ERROR",
     "evalue": "Error: 'data/players.csv' does not exist in current working directory ('/home/jovyan/work/individual_project_planning_stage/.ipynb_checkpoints/.ipynb_checkpoints/.ipynb_checkpoints').\n",
     "output_type": "error",
     "traceback": [
      "Error: 'data/players.csv' does not exist in current working directory ('/home/jovyan/work/individual_project_planning_stage/.ipynb_checkpoints/.ipynb_checkpoints/.ipynb_checkpoints').\nTraceback:\n",
      "1. read_csv(\"data/players.csv\")",
      "2. vroom::vroom(file, delim = \",\", col_names = col_names, col_types = col_types, \n .     col_select = {\n .         {\n .             col_select\n .         }\n .     }, id = id, .name_repair = name_repair, skip = skip, n_max = n_max, \n .     na = na, quote = quote, comment = comment, skip_empty_rows = skip_empty_rows, \n .     trim_ws = trim_ws, escape_double = TRUE, escape_backslash = FALSE, \n .     locale = locale, guess_max = guess_max, show_col_types = show_col_types, \n .     progress = progress, altrep = lazy, num_threads = num_threads)",
      "3. vroom_(file, delim = delim %||% col_types$delim, col_names = col_names, \n .     col_types = col_types, id = id, skip = skip, col_select = col_select, \n .     name_repair = .name_repair, na = na, quote = quote, trim_ws = trim_ws, \n .     escape_double = escape_double, escape_backslash = escape_backslash, \n .     comment = comment, skip_empty_rows = skip_empty_rows, locale = locale, \n .     guess_max = guess_max, n_max = n_max, altrep = vroom_altrep(altrep), \n .     num_threads = num_threads, progress = progress)",
      "4. (function (path, write = FALSE) \n . {\n .     if (is.raw(path)) {\n .         return(rawConnection(path, \"rb\"))\n .     }\n .     if (!is.character(path)) {\n .         return(path)\n .     }\n .     if (is_url(path)) {\n .         if (requireNamespace(\"curl\", quietly = TRUE)) {\n .             con <- curl::curl(path)\n .         }\n .         else {\n .             inform(\"`curl` package not installed, falling back to using `url()`\")\n .             con <- url(path)\n .         }\n .         ext <- tolower(tools::file_ext(path))\n .         return(switch(ext, zip = , bz2 = , xz = {\n .             close(con)\n .             stop(\"Reading from remote `\", ext, \"` compressed files is not supported,\\n\", \n .                 \"  download the files locally first.\", call. = FALSE)\n .         }, gz = gzcon(con), con))\n .     }\n .     path <- enc2utf8(path)\n .     p <- split_path_ext(basename_utf8(path))\n .     if (write) {\n .         path <- normalizePath_utf8(path, mustWork = FALSE)\n .     }\n .     else {\n .         path <- check_path(path)\n .     }\n .     if (is_installed(\"archive\")) {\n .         formats <- archive_formats(p$extension)\n .         extension <- p$extension\n .         while (is.null(formats) && nzchar(extension)) {\n .             extension <- split_path_ext(extension)$extension\n .             formats <- archive_formats(extension)\n .         }\n .         if (!is.null(formats)) {\n .             p$extension <- extension\n .             if (write) {\n .                 if (is.null(formats[[1]])) {\n .                   return(archive::file_write(path, filter = formats[[2]]))\n .                 }\n .                 return(archive::archive_write(path, p$path, format = formats[[1]], \n .                   filter = formats[[2]]))\n .             }\n .             if (is.null(formats[[1]])) {\n .                 return(archive::file_read(path, filter = formats[[2]]))\n .             }\n .             return(archive::archive_read(path, format = formats[[1]], \n .                 filter = formats[[2]]))\n .         }\n .     }\n .     if (!write) {\n .         compression <- detect_compression(path)\n .     }\n .     else {\n .         compression <- NA\n .     }\n .     if (is.na(compression)) {\n .         compression <- tools::file_ext(path)\n .     }\n .     if (write && compression == \"zip\") {\n .         stop(\"Can only read from, not write to, .zip\", call. = FALSE)\n .     }\n .     switch(compression, gz = gzfile(path, \"\"), bz2 = bzfile(path, \n .         \"\"), xz = xzfile(path, \"\"), zip = zipfile(path, \"\"), \n .         if (!has_trailing_newline(path)) {\n .             file(path)\n .         } else {\n .             path\n .         })\n . })(\"data/players.csv\")",
      "5. check_path(path)",
      "6. stop(\"'\", path, \"' does not exist\", if (!is_absolute_path(path)) {\n .     paste0(\" in current working directory ('\", getwd(), \"')\")\n . }, \".\", call. = FALSE)"
     ]
    }
   ],
   "source": [
    "library(tidyverse) \n",
    "players<- read_csv(\"data/players.csv\")\n",
    "\n",
    "filter(players, age)|>\n",
    "      select(played_hours)"
   ]
  },
  {
   "cell_type": "markdown",
   "id": "2d57e8dd-5519-46d2-bf19-0a58b67f1668",
   "metadata": {},
   "source": [
    "(4) Methods and Plan\n",
    "Propose one method to address your question of interest using the selected dataset and explain why it was chosen. Do not perform any modelling or present results at this stage. We are looking for high-level planning regarding model choice and justifying that choice.\n",
    "\n",
    "In your explanation, respond to the following questions:\n",
    "\n",
    "Why is this method appropriate?\n",
    "Which assumptions are required, if any, to apply the method selected?\n",
    "What are the potential limitations or weaknesses of the method selected?\n",
    "How are you going to compare and select the model?\n",
    "How are you going to process the data to apply the model? For example: Are you splitting the data? How? How many splits? What proportions will you use for the splits? At what stage will you split? Will there be a validation set? Will you use cross validation?\n",
    " "
   ]
  },
  {
   "cell_type": "markdown",
   "id": "1a8984e7-949c-47d9-ac85-37847e207b8f",
   "metadata": {},
   "source": []
  }
 ],
 "metadata": {
  "kernelspec": {
   "display_name": "R",
   "language": "R",
   "name": "ir"
  },
  "language_info": {
   "codemirror_mode": "r",
   "file_extension": ".r",
   "mimetype": "text/x-r-source",
   "name": "R",
   "pygments_lexer": "r",
   "version": "4.3.3"
  }
 },
 "nbformat": 4,
 "nbformat_minor": 5
}
